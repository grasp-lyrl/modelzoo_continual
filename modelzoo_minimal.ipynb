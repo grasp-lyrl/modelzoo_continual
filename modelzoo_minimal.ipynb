{
  "nbformat": 4,
  "nbformat_minor": 0,
  "metadata": {
    "colab": {
      "name": "ModelZoo_minimal.ipynb",
      "provenance": [],
      "collapsed_sections": [],
      "authorship_tag": "ABX9TyNpJuHnistprgNDTYs53haP",
      "include_colab_link": true
    },
    "kernelspec": {
      "name": "python3",
      "display_name": "Python 3"
    },
    "language_info": {
      "name": "python"
    },
    "accelerator": "GPU"
  },
  "cells": [
    {
      "cell_type": "markdown",
      "metadata": {
        "id": "view-in-github",
        "colab_type": "text"
      },
      "source": [
        "<a href=\"https://colab.research.google.com/github/rahul13ramesh/modelzoo_continual/blob/main/modelzoo_minimal.ipynb\" target=\"_parent\"><img src=\"https://colab.research.google.com/assets/colab-badge.svg\" alt=\"Open In Colab\"/></a>"
      ]
    },
    {
      "cell_type": "markdown",
      "source": [
        "# A minimal implementation of Model Zoo:\n",
        "\n",
        "This notebook is a minimal working example of [Model Zoo](https://arxiv.org/abs/2106.03027). It trains the Zoo in under 10 mins on 20 tasks from CIFAR100 constructed using the super-classes (Coarse-CIFAR100 benchmark)."
      ],
      "metadata": {
        "id": "FQkdsVoRCwZA"
      }
    },
    {
      "cell_type": "code",
      "execution_count": null,
      "metadata": {
        "id": "XcE8vqqrYm8j"
      },
      "outputs": [],
      "source": [
        "import numpy as np\n",
        "import torch\n",
        "import tqdm\n",
        "import torch.nn as nn\n",
        "import matplotlib.pyplot as plt\n",
        "\n",
        "import torchvision\n",
        "import torchvision.transforms as transforms\n",
        "import torch.optim as optim\n",
        "\n",
        "from torch.utils.data import DataLoader\n",
        "from tqdm import tqdm\n",
        "from tabulate import tabulate"
      ]
    },
    {
      "cell_type": "code",
      "source": [
        "dev = 'cuda'\n",
        "EPISODES = 15"
      ],
      "metadata": {
        "id": "NgReWbR2zP4r"
      },
      "execution_count": 1,
      "outputs": []
    },
    {
      "cell_type": "markdown",
      "source": [
        "## Constructing Tasks from CIFAR100"
      ],
      "metadata": {
        "id": "XYB2UV95IClP"
      }
    },
    {
      "cell_type": "markdown",
      "source": [
        "We first define dataloaders for the Coarse-CIFAR100 task. We define a functions that fetches a set of tasks."
      ],
      "metadata": {
        "id": "qYGPaj_nEzUy"
      }
    },
    {
      "cell_type": "code",
      "source": [
        "# Download dataset\n",
        "_ = torchvision.datasets.CIFAR100(root='./data', train=True, download=True)\n",
        "_ = torchvision.datasets.CIFAR100(root='./data', train=False, download=True)\n",
        "\n",
        "\n",
        "coarse_cifar100 = [[4, 30, 55, 72, 95],  [1, 32, 67, 73, 91],\n",
        "                   [54, 62, 70, 82, 92], [9, 10, 16, 28, 61],\n",
        "                   [0, 51, 53, 57, 83],  [22, 39, 40, 86, 87],\n",
        "                   [5, 20, 25, 84, 94],  [6, 7, 14, 18, 24],\n",
        "                   [3, 42, 43, 88, 97],  [12, 17, 37, 68, 76],\n",
        "                   [23, 33, 49, 60, 71], [15, 19, 21, 31, 38],\n",
        "                   [34, 63, 64, 66, 75], [26, 45, 77, 79, 99],\n",
        "                   [2, 11, 35, 46, 98],  [27, 29, 44, 78, 93],\n",
        "                   [36, 50, 65, 74, 80], [47, 52, 56, 59, 96],\n",
        "                   [8, 13, 48, 58, 90],  [41, 69, 81, 85, 89]]\n",
        "\n",
        "task_names = [\"Aq. Mammals\", \"Fish\",\n",
        "              \"Flowers\", \"Food Container\",\n",
        "              \"Fruits and Veggies\", \"Electrical Devices\",\n",
        "              \"Household Furniture\", \"Insects\", \n",
        "              \"Large Carnivores\", \"Man-made Outdoor\",\n",
        "              \"Natural Outdoor\", \"Omni-Herbivores\",\n",
        "              \"Med. Mammals\", \"Invertebrates\",\n",
        "              \"People\", \"Reptiles\",\n",
        "              \"Small Mammals\", \"Trees\",\n",
        "              \"Vehicles 1\", \"Vehicles 2\"]\n",
        "\n",
        "# Map each cifar100 label -> (task, task-label)\n",
        "tmap, cmap = {}, {}\n",
        "for tid, task in enumerate(coarse_cifar100):\n",
        "    for lid, lab in enumerate(task):\n",
        "        tmap[lab], cmap[lab] = tid, lid\n",
        "\n",
        "def create_cifar100_task(tasks, train=True, shuffle=False, bs=256):\n",
        "    # Don't use CIFAR10 mean/std to avoid leaking info \n",
        "    # Instead use (mean, std) of (0.5, 0.25)\n",
        "    transform = transforms.Compose([\n",
        "        transforms.ToTensor(),\n",
        "        transforms.Normalize([0.5, 0.5, 0.5], [0.25, 0.25, 0.25]),\n",
        "    ])\n",
        "    dataset = torchvision.datasets.CIFAR100(\n",
        "        root='./data', train=train, download=False, transform=transform)\n",
        " \n",
        "    # Select only those datapoints for our task\n",
        "    task_labels = []\n",
        "    for task_id in tasks:\n",
        "        task_labels += coarse_cifar100[task_id]\n",
        "    idx = np.where(np.isin(dataset.targets, task_labels))[0]\n",
        "    \n",
        "    dataset.targets = [(tmap[dataset.targets[j]], cmap[dataset.targets[j]]) for j in idx]\n",
        "    dataset.data = dataset.data[idx]\n",
        "    \n",
        "    # Create dataloader. Set workers to 0, since too few batches\n",
        "    dataloader = DataLoader(\n",
        "        dataset, batch_size=bs, shuffle=shuffle,\n",
        "        num_workers=0, pin_memory=True)\n",
        "    \n",
        "    return dataloader\n",
        "\n",
        "# Create dataloaders for each task\n",
        "train_loaders = []\n",
        "test_loaders = []\n",
        "\n",
        "for i in range(20):\n",
        "    train_loaders.append(create_cifar100_task([i], train=True))\n",
        "    test_loaders.append(create_cifar100_task([i], train=False))"
      ],
      "metadata": {
        "colab": {
          "base_uri": "https://localhost:8080/"
        },
        "id": "ulHAExPBijRj",
        "outputId": "e5218987-5ca9-4c25-9ee0-6b9c5e922900"
      },
      "execution_count": null,
      "outputs": [
        {
          "output_type": "stream",
          "name": "stdout",
          "text": [
            "Files already downloaded and verified\n",
            "Files already downloaded and verified\n"
          ]
        }
      ]
    },
    {
      "cell_type": "markdown",
      "source": [
        "We store the output_label for every task into one matrix. This makes is easier later on to compute the loss/accuracy on all tasks."
      ],
      "metadata": {
        "id": "Fx4GrVE-FWRL"
      }
    },
    {
      "cell_type": "code",
      "source": [
        "all_targets = []\n",
        "\n",
        "# Store the targets for each task (for faster computation later)\n",
        "for i in range(20):\n",
        "    all_targets.append([])\n",
        "    for loader in [train_loaders[i], test_loaders[i]]:\n",
        "        task_targets = []\n",
        "        for dat, target in loader:\n",
        "            task_targets.append(target[1].numpy())\n",
        "        task_targets = np.concatenate(task_targets)\n",
        "        all_targets[i].append(task_targets)      "
      ],
      "metadata": {
        "id": "MSNUmTXzi6L3"
      },
      "execution_count": null,
      "outputs": []
    },
    {
      "cell_type": "markdown",
      "source": [
        "## Building the Model Zoo"
      ],
      "metadata": {
        "id": "LoGzK8n8H5BW"
      }
    },
    {
      "cell_type": "markdown",
      "source": [
        "Every model in the Model Zoo is a small convolution network with 0.1M parameters. Even this sufficies for SOTA performance on continual learning benchmarks. "
      ],
      "metadata": {
        "id": "VWOdj_SDF1HF"
      }
    },
    {
      "cell_type": "code",
      "source": [
        "class SmallConv(nn.Module):\n",
        "    # Small convolution network\n",
        "    def __init__(self, channels=3, avg_pool=2, lin_size=320):\n",
        "        super(SmallConv, self).__init__()\n",
        "        self.conv1 = nn.Conv2d(channels, 80, kernel_size=3, bias=False)\n",
        "        self.conv2 = nn.Conv2d(80, 80, kernel_size=3)\n",
        "        self.bn2 = nn.BatchNorm2d(80)\n",
        "        self.conv3 = nn.Conv2d(80, 80, kernel_size=3)\n",
        "        self.bn3 = nn.BatchNorm2d(80)\n",
        "        self.relu = nn.ReLU(inplace=True)\n",
        "        self.maxpool = nn.MaxPool2d(avg_pool)\n",
        "        self.fc = nn.Linear(lin_size, 100)\n",
        "        self.linsize = lin_size\n",
        "\n",
        "        for m in self.modules():\n",
        "            if isinstance(m, nn.Linear):\n",
        "                m.bias.data.zero_()\n",
        "\n",
        "    def forward(self, x, tasks):\n",
        "        x = self.conv1(x)\n",
        "        x = self.maxpool(self.relu(x))\n",
        "        x = self.conv2(x)\n",
        "        x = self.maxpool(self.relu(self.bn2(x)))\n",
        "        x = self.conv3(x)\n",
        "        x = self.maxpool(self.relu(self.bn3(x)))\n",
        "        x = x.view(-1, self.linsize)\n",
        "        logits = self.fc(x)\n",
        "        logits = logits.reshape(-1, 20, 5)\n",
        "        # Select only relevant logits based on task\n",
        "        logits = logits[torch.arange(logits.size(0)), list(tasks), :]\n",
        "        return logits"
      ],
      "metadata": {
        "id": "RRGXJLInik7B"
      },
      "execution_count": null,
      "outputs": []
    },
    {
      "cell_type": "markdown",
      "source": [
        "\n",
        "\n",
        "We define functions that help us construct the Model Zoo, which perform the following operations:\n",
        "\n",
        "1. Sample a set of tasks with high training loss\n",
        "2. Train a model on these tasks\n",
        "3. Add model to the zoo (in our case, we store all the outputs of this model instead)\n",
        "4. Evaluate the zoo and compute the training loss of each task for the next iteration"
      ],
      "metadata": {
        "id": "0OcbOimfGGjj"
      }
    },
    {
      "cell_type": "code",
      "source": [
        "def process_dat(dat, target):\n",
        "    # Helper function to push data to gpu\n",
        "    dat = dat.to(dev)\n",
        "    tasks, labels = target\n",
        "    labels = labels.long().to(dev)\n",
        "    tasks = tasks.long().to(dev)\n",
        "    return dat, labels, tasks\n",
        "\n",
        "\n",
        "def sample_task(train_losses, episode, bb):\n",
        "    # Samples \"bb\" tasks to train on\n",
        "    bb = min(bb, episode+1)\n",
        "\n",
        "    if episode == 0:\n",
        "        return [0]\n",
        "\n",
        "    prob = (train_losses - np.mean(train_losses)) / np.mean(train_losses)\n",
        "    prob = np.exp(prob).clip(0.0001, 1000)\n",
        "    prob = prob / np.sum(prob)\n",
        "\n",
        "    tasks = list(np.random.choice(episode, bb-1, replace=False, p=prob))\n",
        "    tasks.append(episode) # Add the newest task to the list\n",
        "    tasks = [int(t) for t in tasks]\n",
        "    return tasks\n",
        "\n",
        "def train_model(tasks, epochs):\n",
        "    # Train a single model on the Model Zoo\n",
        "    net = SmallConv()\n",
        "    if dev != 'cpu':\n",
        "        net.cuda()\n",
        "    \n",
        "    # No cosine-annlealing, fp16, larger batchs-size\n",
        "    # This leads to worse accuraices, but leads to simpler or faster code\n",
        "    mttask_loader = create_cifar100_task(tasks, shuffle=True, bs=32)\n",
        "    optimizer = optim.SGD(net.parameters(), lr=0.01,momentum=0.9,\n",
        "                          nesterov=True,weight_decay=0.00001)\n",
        "    criterion = nn.CrossEntropyLoss()\n",
        "\n",
        "    net.train()\n",
        "    for ep in tqdm(range(epochs)):\n",
        "        for dat, target in mttask_loader:\n",
        "            optimizer.zero_grad()\n",
        "            dat, labels, tasks = process_dat(dat, target)\n",
        "            out = net(dat, tasks)\n",
        "            loss = criterion(out, labels)\n",
        "            loss.backward()\n",
        "            optimizer.step()\n",
        "    return net\n",
        "\n",
        "\n",
        "def update_zoo(net, tasks, zoo_outputs):\n",
        "    # Instead of storing the new network into the model zoo, we store all\n",
        "    # outputs of the network for faster run-times\n",
        "    criterion = nn.CrossEntropyLoss()\n",
        "    net.eval()\n",
        "\n",
        "    with torch.inference_mode():\n",
        "        for tid in tasks:\n",
        "            for idx, dataloader in enumerate([train_loaders[tid], test_loaders[tid]]):\n",
        "                outputs = []\n",
        "                for dat, target in dataloader:\n",
        "                    dat, labels, tasks = process_dat(dat, target)\n",
        "                    out = net(dat, tasks)\n",
        "                    out = nn.functional.softmax(out, dim=1)\n",
        "                    out = out.cpu().detach().numpy()\n",
        "                    outputs.append(out)\n",
        "                outputs = np.concatenate(outputs)\n",
        "                zoo_outputs[tid][idx].append(outputs)\n",
        "\n",
        "\n",
        "def evaluate_zoo(episode, zoo_outputs):\n",
        "    # Evaluate the entire model zoo and all tasks seen until current episode\n",
        "    criterion = nn.NLLLoss()\n",
        "    met = {\"train_loss\": [], \"test_loss\": [], \"train_acc\": [], \"test_acc\":[]}\n",
        "\n",
        "    for tid in range(episode+1):\n",
        "        train_preds = np.mean(zoo_outputs[tid][0], axis=0)\n",
        "        test_preds = np.mean(zoo_outputs[tid][1], axis=0)\n",
        "\n",
        "        tr_loss = criterion(torch.Tensor(train_preds).log(),\n",
        "                            torch.Tensor(all_targets[tid][0]).long())\n",
        "        te_loss = criterion(torch.Tensor(test_preds).log(),\n",
        "                            torch.Tensor(all_targets[tid][1]).long())\n",
        " \n",
        "        met[\"train_loss\"].append(tr_loss.item())\n",
        "        met[\"test_loss\"].append(te_loss.item())\n",
        "        met[\"train_acc\"].append((train_preds.argmax(1) == all_targets[tid][0]).mean())\n",
        "        met[\"test_acc\"].append((test_preds.argmax(1) == all_targets[tid][1]).mean())\n",
        "\n",
        "    return met\n",
        "\n"
      ],
      "metadata": {
        "id": "cW6HbaiwmHlR"
      },
      "execution_count": null,
      "outputs": []
    },
    {
      "cell_type": "code",
      "source": [
        "def run_zoo(bb=5, epochs=50):\n",
        "    zoo_outputs = {}\n",
        "    zoo_log = {}\n",
        "    train_losses = []\n",
        "    for ep in range(EPISODES):\n",
        "        print(\"Epsisode \" + str(ep))\n",
        "        zoo_outputs[ep] = [[], []]  \n",
        "        tasks = sample_task(train_losses, ep, bb)\n",
        "    \n",
        "        print(\"Training model on tasks: \" + str(tasks))\n",
        "        model = train_model(tasks, epochs)\n",
        "        update_zoo(model, tasks, zoo_outputs)\n",
        "        zoo_log[ep] = evaluate_zoo(ep, zoo_outputs)\n",
        "        train_losses = zoo_log[ep][\"train_loss\"]\n",
        "        print(\"Test Accuracies of the zoo:\\n  %s\\n\" % str(zoo_log[ep]['test_acc']))\n",
        "    return zoo_log"
      ],
      "metadata": {
        "id": "NKFrZnt_1zWL"
      },
      "execution_count": null,
      "outputs": []
    },
    {
      "cell_type": "markdown",
      "source": [
        "Finally, we train Model Zoo and Isolated. 5 epochs of training leads to under-trained models but it is sufficient to demonstrate the efficacy of Model Zoo. "
      ],
      "metadata": {
        "id": "hP7CS-BQHY-K"
      }
    },
    {
      "cell_type": "code",
      "source": [
        "zoo_log = run_zoo(bb=5, epochs=5)"
      ],
      "metadata": {
        "colab": {
          "base_uri": "https://localhost:8080/"
        },
        "id": "xbqlqw9Br0qr",
        "outputId": "29e138e2-a506-4729-8476-9164bad1508e"
      },
      "execution_count": null,
      "outputs": [
        {
          "output_type": "stream",
          "name": "stdout",
          "text": [
            "Epsisode 0\n",
            "Training model on tasks: [0]\n"
          ]
        },
        {
          "output_type": "stream",
          "name": "stderr",
          "text": [
            "100%|██████████| 5/5 [00:06<00:00,  1.29s/it]\n"
          ]
        },
        {
          "output_type": "stream",
          "name": "stdout",
          "text": [
            "Test Accuracies of the zoo:\n",
            "  [0.524]\n",
            "\n",
            "Epsisode 1\n",
            "Training model on tasks: [0, 1]\n"
          ]
        },
        {
          "output_type": "stream",
          "name": "stderr",
          "text": [
            "100%|██████████| 5/5 [00:13<00:00,  2.60s/it]\n"
          ]
        },
        {
          "output_type": "stream",
          "name": "stdout",
          "text": [
            "Test Accuracies of the zoo:\n",
            "  [0.556, 0.7]\n",
            "\n",
            "Epsisode 2\n",
            "Training model on tasks: [1, 0, 2]\n"
          ]
        },
        {
          "output_type": "stream",
          "name": "stderr",
          "text": [
            "100%|██████████| 5/5 [00:19<00:00,  3.86s/it]\n"
          ]
        },
        {
          "output_type": "stream",
          "name": "stdout",
          "text": [
            "Test Accuracies of the zoo:\n",
            "  [0.544, 0.714, 0.576]\n",
            "\n",
            "Epsisode 3\n",
            "Training model on tasks: [1, 2, 0, 3]\n"
          ]
        },
        {
          "output_type": "stream",
          "name": "stderr",
          "text": [
            "100%|██████████| 5/5 [00:26<00:00,  5.36s/it]\n"
          ]
        },
        {
          "output_type": "stream",
          "name": "stdout",
          "text": [
            "Test Accuracies of the zoo:\n",
            "  [0.568, 0.732, 0.662, 0.666]\n",
            "\n",
            "Epsisode 4\n",
            "Training model on tasks: [2, 1, 0, 3, 4]\n"
          ]
        },
        {
          "output_type": "stream",
          "name": "stderr",
          "text": [
            "100%|██████████| 5/5 [00:32<00:00,  6.54s/it]\n"
          ]
        },
        {
          "output_type": "stream",
          "name": "stdout",
          "text": [
            "Test Accuracies of the zoo:\n",
            "  [0.578, 0.734, 0.698, 0.704, 0.714]\n",
            "\n",
            "Epsisode 5\n",
            "Training model on tasks: [0, 1, 4, 3, 5]\n"
          ]
        },
        {
          "output_type": "stream",
          "name": "stderr",
          "text": [
            "100%|██████████| 5/5 [00:32<00:00,  6.52s/it]\n"
          ]
        },
        {
          "output_type": "stream",
          "name": "stdout",
          "text": [
            "Test Accuracies of the zoo:\n",
            "  [0.578, 0.736, 0.698, 0.724, 0.754, 0.692]\n",
            "\n",
            "Epsisode 6\n",
            "Training model on tasks: [5, 2, 3, 4, 6]\n"
          ]
        },
        {
          "output_type": "stream",
          "name": "stderr",
          "text": [
            "100%|██████████| 5/5 [00:32<00:00,  6.48s/it]\n"
          ]
        },
        {
          "output_type": "stream",
          "name": "stdout",
          "text": [
            "Test Accuracies of the zoo:\n",
            "  [0.578, 0.736, 0.68, 0.74, 0.764, 0.724, 0.658]\n",
            "\n",
            "Epsisode 7\n",
            "Training model on tasks: [5, 6, 4, 0, 7]\n"
          ]
        },
        {
          "output_type": "stream",
          "name": "stderr",
          "text": [
            "100%|██████████| 5/5 [00:32<00:00,  6.59s/it]\n"
          ]
        },
        {
          "output_type": "stream",
          "name": "stdout",
          "text": [
            "Test Accuracies of the zoo:\n",
            "  [0.58, 0.736, 0.68, 0.74, 0.77, 0.724, 0.702, 0.718]\n",
            "\n",
            "Epsisode 8\n",
            "Training model on tasks: [1, 6, 0, 3, 8]\n"
          ]
        },
        {
          "output_type": "stream",
          "name": "stderr",
          "text": [
            "100%|██████████| 5/5 [00:32<00:00,  6.50s/it]\n"
          ]
        },
        {
          "output_type": "stream",
          "name": "stdout",
          "text": [
            "Test Accuracies of the zoo:\n",
            "  [0.58, 0.742, 0.68, 0.736, 0.77, 0.724, 0.68, 0.718, 0.692]\n",
            "\n",
            "Epsisode 9\n",
            "Training model on tasks: [0, 5, 2, 6, 9]\n"
          ]
        },
        {
          "output_type": "stream",
          "name": "stderr",
          "text": [
            "100%|██████████| 5/5 [00:32<00:00,  6.49s/it]\n"
          ]
        },
        {
          "output_type": "stream",
          "name": "stdout",
          "text": [
            "Test Accuracies of the zoo:\n",
            "  [0.59, 0.742, 0.694, 0.736, 0.77, 0.726, 0.69, 0.718, 0.692, 0.722]\n",
            "\n",
            "Epsisode 10\n",
            "Training model on tasks: [0, 2, 3, 8, 10]\n"
          ]
        },
        {
          "output_type": "stream",
          "name": "stderr",
          "text": [
            "100%|██████████| 5/5 [00:32<00:00,  6.42s/it]\n"
          ]
        },
        {
          "output_type": "stream",
          "name": "stdout",
          "text": [
            "Test Accuracies of the zoo:\n",
            "  [0.588, 0.742, 0.706, 0.742, 0.77, 0.726, 0.69, 0.718, 0.708, 0.722, 0.766]\n",
            "\n",
            "Epsisode 11\n",
            "Training model on tasks: [0, 6, 10, 3, 11]\n"
          ]
        },
        {
          "output_type": "stream",
          "name": "stderr",
          "text": [
            "100%|██████████| 5/5 [00:32<00:00,  6.42s/it]\n"
          ]
        },
        {
          "output_type": "stream",
          "name": "stdout",
          "text": [
            "Test Accuracies of the zoo:\n",
            "  [0.59, 0.742, 0.706, 0.738, 0.77, 0.726, 0.704, 0.718, 0.708, 0.722, 0.794, 0.64]\n",
            "\n",
            "Epsisode 12\n",
            "Training model on tasks: [3, 11, 0, 8, 12]\n"
          ]
        },
        {
          "output_type": "stream",
          "name": "stderr",
          "text": [
            "100%|██████████| 5/5 [00:32<00:00,  6.41s/it]\n"
          ]
        },
        {
          "output_type": "stream",
          "name": "stdout",
          "text": [
            "Test Accuracies of the zoo:\n",
            "  [0.594, 0.742, 0.706, 0.746, 0.77, 0.726, 0.704, 0.718, 0.73, 0.722, 0.794, 0.676, 0.728]\n",
            "\n",
            "Epsisode 13\n",
            "Training model on tasks: [0, 5, 6, 2, 13]\n"
          ]
        },
        {
          "output_type": "stream",
          "name": "stderr",
          "text": [
            "100%|██████████| 5/5 [00:32<00:00,  6.45s/it]\n"
          ]
        },
        {
          "output_type": "stream",
          "name": "stdout",
          "text": [
            "Test Accuracies of the zoo:\n",
            "  [0.596, 0.742, 0.702, 0.746, 0.77, 0.72, 0.702, 0.718, 0.73, 0.722, 0.794, 0.676, 0.728, 0.656]\n",
            "\n",
            "Epsisode 14\n",
            "Training model on tasks: [1, 0, 11, 12, 14]\n"
          ]
        },
        {
          "output_type": "stream",
          "name": "stderr",
          "text": [
            "100%|██████████| 5/5 [00:32<00:00,  6.44s/it]\n"
          ]
        },
        {
          "output_type": "stream",
          "name": "stdout",
          "text": [
            "Test Accuracies of the zoo:\n",
            "  [0.582, 0.74, 0.702, 0.746, 0.77, 0.72, 0.702, 0.718, 0.73, 0.722, 0.794, 0.672, 0.72, 0.656, 0.388]\n",
            "\n"
          ]
        }
      ]
    },
    {
      "cell_type": "code",
      "source": [
        "isolated_log = run_zoo(bb=1, epochs=5)"
      ],
      "metadata": {
        "colab": {
          "base_uri": "https://localhost:8080/"
        },
        "id": "fZ5Rt6pRzp0s",
        "outputId": "f3e319ac-d9ad-4de7-f8be-b05c2de8e6fe"
      },
      "execution_count": null,
      "outputs": [
        {
          "output_type": "stream",
          "name": "stdout",
          "text": [
            "Epsisode 0\n",
            "Training model on tasks: [0]\n"
          ]
        },
        {
          "output_type": "stream",
          "name": "stderr",
          "text": [
            "100%|██████████| 5/5 [00:06<00:00,  1.30s/it]\n"
          ]
        },
        {
          "output_type": "stream",
          "name": "stdout",
          "text": [
            "Test Accuracies of the zoo:\n",
            "  [0.55]\n",
            "\n",
            "Epsisode 1\n",
            "Training model on tasks: [1]\n"
          ]
        },
        {
          "output_type": "stream",
          "name": "stderr",
          "text": [
            "100%|██████████| 5/5 [00:06<00:00,  1.32s/it]\n"
          ]
        },
        {
          "output_type": "stream",
          "name": "stdout",
          "text": [
            "Test Accuracies of the zoo:\n",
            "  [0.55, 0.704]\n",
            "\n",
            "Epsisode 2\n",
            "Training model on tasks: [2]\n"
          ]
        },
        {
          "output_type": "stream",
          "name": "stderr",
          "text": [
            "100%|██████████| 5/5 [00:06<00:00,  1.31s/it]\n"
          ]
        },
        {
          "output_type": "stream",
          "name": "stdout",
          "text": [
            "Test Accuracies of the zoo:\n",
            "  [0.55, 0.704, 0.608]\n",
            "\n",
            "Epsisode 3\n",
            "Training model on tasks: [3]\n"
          ]
        },
        {
          "output_type": "stream",
          "name": "stderr",
          "text": [
            "100%|██████████| 5/5 [00:06<00:00,  1.32s/it]\n"
          ]
        },
        {
          "output_type": "stream",
          "name": "stdout",
          "text": [
            "Test Accuracies of the zoo:\n",
            "  [0.55, 0.704, 0.608, 0.688]\n",
            "\n",
            "Epsisode 4\n",
            "Training model on tasks: [4]\n"
          ]
        },
        {
          "output_type": "stream",
          "name": "stderr",
          "text": [
            "100%|██████████| 5/5 [00:06<00:00,  1.31s/it]\n"
          ]
        },
        {
          "output_type": "stream",
          "name": "stdout",
          "text": [
            "Test Accuracies of the zoo:\n",
            "  [0.55, 0.704, 0.608, 0.688, 0.688]\n",
            "\n",
            "Epsisode 5\n",
            "Training model on tasks: [5]\n"
          ]
        },
        {
          "output_type": "stream",
          "name": "stderr",
          "text": [
            "100%|██████████| 5/5 [00:06<00:00,  1.30s/it]\n"
          ]
        },
        {
          "output_type": "stream",
          "name": "stdout",
          "text": [
            "Test Accuracies of the zoo:\n",
            "  [0.55, 0.704, 0.608, 0.688, 0.688, 0.69]\n",
            "\n",
            "Epsisode 6\n",
            "Training model on tasks: [6]\n"
          ]
        },
        {
          "output_type": "stream",
          "name": "stderr",
          "text": [
            "100%|██████████| 5/5 [00:06<00:00,  1.30s/it]\n"
          ]
        },
        {
          "output_type": "stream",
          "name": "stdout",
          "text": [
            "Test Accuracies of the zoo:\n",
            "  [0.55, 0.704, 0.608, 0.688, 0.688, 0.69, 0.586]\n",
            "\n",
            "Epsisode 7\n",
            "Training model on tasks: [7]\n"
          ]
        },
        {
          "output_type": "stream",
          "name": "stderr",
          "text": [
            "100%|██████████| 5/5 [00:06<00:00,  1.31s/it]\n"
          ]
        },
        {
          "output_type": "stream",
          "name": "stdout",
          "text": [
            "Test Accuracies of the zoo:\n",
            "  [0.55, 0.704, 0.608, 0.688, 0.688, 0.69, 0.586, 0.708]\n",
            "\n",
            "Epsisode 8\n",
            "Training model on tasks: [8]\n"
          ]
        },
        {
          "output_type": "stream",
          "name": "stderr",
          "text": [
            "100%|██████████| 5/5 [00:06<00:00,  1.30s/it]\n"
          ]
        },
        {
          "output_type": "stream",
          "name": "stdout",
          "text": [
            "Test Accuracies of the zoo:\n",
            "  [0.55, 0.704, 0.608, 0.688, 0.688, 0.69, 0.586, 0.708, 0.69]\n",
            "\n",
            "Epsisode 9\n",
            "Training model on tasks: [9]\n"
          ]
        },
        {
          "output_type": "stream",
          "name": "stderr",
          "text": [
            "100%|██████████| 5/5 [00:06<00:00,  1.31s/it]\n"
          ]
        },
        {
          "output_type": "stream",
          "name": "stdout",
          "text": [
            "Test Accuracies of the zoo:\n",
            "  [0.55, 0.704, 0.608, 0.688, 0.688, 0.69, 0.586, 0.708, 0.69, 0.724]\n",
            "\n",
            "Epsisode 10\n",
            "Training model on tasks: [10]\n"
          ]
        },
        {
          "output_type": "stream",
          "name": "stderr",
          "text": [
            "100%|██████████| 5/5 [00:06<00:00,  1.31s/it]\n"
          ]
        },
        {
          "output_type": "stream",
          "name": "stdout",
          "text": [
            "Test Accuracies of the zoo:\n",
            "  [0.55, 0.704, 0.608, 0.688, 0.688, 0.69, 0.586, 0.708, 0.69, 0.724, 0.694]\n",
            "\n",
            "Epsisode 11\n",
            "Training model on tasks: [11]\n"
          ]
        },
        {
          "output_type": "stream",
          "name": "stderr",
          "text": [
            "100%|██████████| 5/5 [00:06<00:00,  1.30s/it]\n"
          ]
        },
        {
          "output_type": "stream",
          "name": "stdout",
          "text": [
            "Test Accuracies of the zoo:\n",
            "  [0.55, 0.704, 0.608, 0.688, 0.688, 0.69, 0.586, 0.708, 0.69, 0.724, 0.694, 0.614]\n",
            "\n",
            "Epsisode 12\n",
            "Training model on tasks: [12]\n"
          ]
        },
        {
          "output_type": "stream",
          "name": "stderr",
          "text": [
            "100%|██████████| 5/5 [00:06<00:00,  1.30s/it]\n"
          ]
        },
        {
          "output_type": "stream",
          "name": "stdout",
          "text": [
            "Test Accuracies of the zoo:\n",
            "  [0.55, 0.704, 0.608, 0.688, 0.688, 0.69, 0.586, 0.708, 0.69, 0.724, 0.694, 0.614, 0.704]\n",
            "\n",
            "Epsisode 13\n",
            "Training model on tasks: [13]\n"
          ]
        },
        {
          "output_type": "stream",
          "name": "stderr",
          "text": [
            "100%|██████████| 5/5 [00:06<00:00,  1.32s/it]\n"
          ]
        },
        {
          "output_type": "stream",
          "name": "stdout",
          "text": [
            "Test Accuracies of the zoo:\n",
            "  [0.55, 0.704, 0.608, 0.688, 0.688, 0.69, 0.586, 0.708, 0.69, 0.724, 0.694, 0.614, 0.704, 0.658]\n",
            "\n",
            "Epsisode 14\n",
            "Training model on tasks: [14]\n"
          ]
        },
        {
          "output_type": "stream",
          "name": "stderr",
          "text": [
            "100%|██████████| 5/5 [00:06<00:00,  1.30s/it]\n"
          ]
        },
        {
          "output_type": "stream",
          "name": "stdout",
          "text": [
            "Test Accuracies of the zoo:\n",
            "  [0.55, 0.704, 0.608, 0.688, 0.688, 0.69, 0.586, 0.708, 0.69, 0.724, 0.694, 0.614, 0.704, 0.658, 0.354]\n",
            "\n"
          ]
        }
      ]
    },
    {
      "cell_type": "markdown",
      "source": [
        "## Evaluating Model Zoo"
      ],
      "metadata": {
        "id": "-a-9sXZ3GS-I"
      }
    },
    {
      "cell_type": "code",
      "source": [
        "def get_avg(run_log):\n",
        "    # Avg. Accuracy at the end of all episodes\n",
        "    return np.mean(run_log[EPISODES-1]['test_acc'])\n",
        "\n",
        "def get_fwd(run_log):\n",
        "    # Compute the learning accuracy (Reimer et al.) -- the accuracy when task \n",
        "    # is first seen.\n",
        "    learning_acc = []\n",
        "    for ep in range(EPISODES):\n",
        "        learning_acc.append(run_log[ep]['test_acc'][-1])\n",
        "    return np.mean(learning_acc), learning_acc\n",
        "\n",
        "def get_bwd(run_log):\n",
        "    # Compute the forgetting (max_acc - final acc)\n",
        "    max_acc = []\n",
        "    for task in range(EPISODES):\n",
        "        maxval = 0.0\n",
        "        for ep in range(task, EPISODES):\n",
        "            maxval = max(run_log[ep]['test_acc'][task], maxval)\n",
        "        max_acc.append(maxval)\n",
        "    return np.mean(np.array(max_acc) - np.array(run_log[EPISODES-1]['test_acc']))"
      ],
      "metadata": {
        "id": "5oaqTx4pGR--"
      },
      "execution_count": null,
      "outputs": []
    },
    {
      "cell_type": "markdown",
      "source": [
        "Model Zoo shows forward and backward transfer while showing minimal forgetting on all tasks. "
      ],
      "metadata": {
        "id": "yG75KTsUUJ6h"
      }
    },
    {
      "cell_type": "code",
      "source": [
        "table = []\n",
        "table.append([\"Avg task Acc at the end\", get_avg(isolated_log), get_avg(zoo_log)])\n",
        "table.append([\"Learning accuracy (forward transfer)\", get_fwd(isolated_log)[0], get_fwd(zoo_log)[0]])\n",
        "table.append([\"Forgetting (backward transfer)\", get_bwd(isolated_log), get_bwd(zoo_log)])\n",
        "\n",
        "print(tabulate(table, headers = ['metric', 'Isolated', 'zoo']))"
      ],
      "metadata": {
        "colab": {
          "base_uri": "https://localhost:8080/"
        },
        "id": "Mt6lQMmp27Si",
        "outputId": "b2113151-5e9f-475c-c0a7-788d7ce0366f"
      },
      "execution_count": null,
      "outputs": [
        {
          "output_type": "stream",
          "name": "stdout",
          "text": [
            "metric                                  Isolated         zoo\n",
            "------------------------------------  ----------  ----------\n",
            "Avg task Acc at the end                    0.644  0.6908\n",
            "Learning accuracy (forward transfer)       0.644  0.656\n",
            "Forgetting (backward transfer)             0      0.00266667\n"
          ]
        }
      ]
    },
    {
      "cell_type": "code",
      "source": [
        "plt.style.use('seaborn-whitegrid')\n",
        "\n",
        "def make_plot(run_log, title='Evolution of Task Accuracies'):\n",
        "    for task in range(EPISODES):\n",
        "        task_acc = []\n",
        "        for ep in range(task, EPISODES):\n",
        "            task_acc.append(run_log[ep]['test_acc'][task] * 100)\n",
        "        plt.plot(range(task+1, EPISODES+1), task_acc, color=plt.cm.tab20(task))\n",
        "        plt.scatter(range(task+1, EPISODES+1), task_acc, color=plt.cm.tab20(task))\n",
        "    plt.title(title)\n",
        "    plt.ylabel('Task Accuracy')\n",
        "    plt.xlabel('Episode')\n",
        "    plt.ylim([40, 90])\n",
        "    plt.legend(task_names[:EPISODES], bbox_to_anchor = (1.05, 1.05), title='task')\n",
        "    plt.show()"
      ],
      "metadata": {
        "id": "DCXV_qOjH_4z"
      },
      "execution_count": null,
      "outputs": []
    },
    {
      "cell_type": "markdown",
      "source": [
        "Model Zoo improves on past tasks. For example *Aq. Mammals* and *Fish* improve their accuracy with more episodes. It also has an improved ability to learn new tasks. For example *Household Furniture* has an accuracy ~60% for Isolated, while Model Zoo starts with an accuracy close to ~65%. Hence Model Zoo shows forward and backward transfer."
      ],
      "metadata": {
        "id": "6rwSRwd7IY_4"
      }
    },
    {
      "cell_type": "code",
      "source": [
        "make_plot(isolated_log, title='Isolated')"
      ],
      "metadata": {
        "colab": {
          "base_uri": "https://localhost:8080/",
          "height": 291
        },
        "id": "309bj4bQebdI",
        "outputId": "cad13460-84c1-42d5-c4ae-dbd6139894d8"
      },
      "execution_count": null,
      "outputs": [
        {
          "output_type": "display_data",
          "data": {
            "text/plain": [
              "<Figure size 432x288 with 1 Axes>"
            ],
            "image/png": "[encoded data removed]"
          },
          "metadata": {}
        }
      ]
    },
    {
      "cell_type": "code",
      "source": [
        "make_plot(zoo_log, title='Model Zoo')"
      ],
      "metadata": {
        "colab": {
          "base_uri": "https://localhost:8080/",
          "height": 291
        },
        "id": "KTWAt2knIHTp",
        "outputId": "0e6008c9-5170-44a4-eeee-d3a330dc1740"
      },
      "execution_count": null,
      "outputs": [
        {
          "output_type": "display_data",
          "data": {
            "text/plain": [
              "<Figure size 432x288 with 1 Axes>"
            ],
            "image/png": "[encoded data removed]"
          },
          "metadata": {}
        }
      ]
    }
  ]
}